{
 "cells": [
  {
   "cell_type": "markdown",
   "id": "254e61c7",
   "metadata": {},
   "source": [
    "# \"Assignment - 02\""
   ]
  },
  {
   "cell_type": "markdown",
   "id": "dcc2363d",
   "metadata": {},
   "source": [
    "## \"Transport In Ireland (Comparison Between Ireland Transport Data V/S Switzerland Transport Data)\""
   ]
  },
  {
   "cell_type": "markdown",
   "id": "4266cf91",
   "metadata": {},
   "source": [
    "### First Import Liberaries & Clean Dataset"
   ]
  },
  {
   "cell_type": "code",
   "execution_count": 1,
   "id": "d6282df2",
   "metadata": {},
   "outputs": [],
   "source": [
    "import pandas as pd\n",
    "import matplotlib.pyplot as plt\n",
    "import seaborn as sns"
   ]
  },
  {
   "cell_type": "code",
   "execution_count": 2,
   "id": "bbeb016e",
   "metadata": {},
   "outputs": [],
   "source": [
    "# Load Ireland dataset\n",
    "ireland_data = pd.read_csv('C:/Users/Ycomputer/Downloads/CA02 - MSc Data Analytics/ireland.csv')\n",
    "\n",
    "# Load Switzerland dataset\n",
    "switzerland_data = pd.read_csv('C:/Users/Ycomputer/Downloads/CA02 - MSc Data Analytics/switzerland dataset.csv')\n",
    "\n",
    "# Data cleaning for Ireland dataset (modify as needed)\n",
    "ireland_data_cleaned = ireland_data.dropna()  # Drop rows with missing values\n",
    "\n",
    "# Data cleaning for Switzerland dataset (modify as needed)\n",
    "switzerland_data_cleaned = switzerland_data.drop_duplicates()  # Remove duplicate rows\n",
    "\n",
    "# Save cleaned datasets to the same file\n",
    "ireland_data_cleaned.to_csv('C:/Users/Ycomputer/Downloads/CA02 - MSc Data Analytics/cleaned_ireland.csv', index=False)\n",
    "switzerland_data_cleaned.to_csv('C:/Users/Ycomputer/Downloads/CA02 - MSc Data Analytics/cleaned_switzerland.csv', index=False)"
   ]
  },
  {
   "cell_type": "code",
   "execution_count": 3,
   "id": "a530cf32",
   "metadata": {},
   "outputs": [],
   "source": [
    "import warnings\n",
    "warnings.filterwarnings('ignore') # We can suppress the warnings"
   ]
  },
  {
   "cell_type": "markdown",
   "id": "057cde00",
   "metadata": {},
   "source": [
    "### Data Pre-processing & Exploratory Data Analysis (EDA)"
   ]
  },
  {
   "cell_type": "code",
   "execution_count": 4,
   "id": "24c29d44",
   "metadata": {},
   "outputs": [
    {
     "data": {
      "text/html": [
       "<div>\n",
       "<style scoped>\n",
       "    .dataframe tbody tr th:only-of-type {\n",
       "        vertical-align: middle;\n",
       "    }\n",
       "\n",
       "    .dataframe tbody tr th {\n",
       "        vertical-align: top;\n",
       "    }\n",
       "\n",
       "    .dataframe thead th {\n",
       "        text-align: right;\n",
       "    }\n",
       "</style>\n",
       "<table border=\"1\" class=\"dataframe\">\n",
       "  <thead>\n",
       "    <tr style=\"text-align: right;\">\n",
       "      <th></th>\n",
       "      <th>STATISTIC</th>\n",
       "      <th>Statistic Label</th>\n",
       "      <th>TLIST(W1)</th>\n",
       "      <th>Year</th>\n",
       "      <th>C03910V04662</th>\n",
       "      <th>Transport Traffic Site</th>\n",
       "      <th>C01198V01436</th>\n",
       "      <th>Weeks of the year</th>\n",
       "      <th>UNIT</th>\n",
       "      <th>VALUE</th>\n",
       "    </tr>\n",
       "  </thead>\n",
       "  <tbody>\n",
       "    <tr>\n",
       "      <th>0</th>\n",
       "      <td>THA22C01</td>\n",
       "      <td>Average weekly volume of heavy goods vehicles</td>\n",
       "      <td>2019</td>\n",
       "      <td>2019</td>\n",
       "      <td>10</td>\n",
       "      <td>Selected traffic sites - Dublin</td>\n",
       "      <td>1</td>\n",
       "      <td>Week 01</td>\n",
       "      <td>Number</td>\n",
       "      <td>23838.0</td>\n",
       "    </tr>\n",
       "    <tr>\n",
       "      <th>1</th>\n",
       "      <td>THA22C01</td>\n",
       "      <td>Average weekly volume of heavy goods vehicles</td>\n",
       "      <td>2019</td>\n",
       "      <td>2019</td>\n",
       "      <td>10</td>\n",
       "      <td>Selected traffic sites - Dublin</td>\n",
       "      <td>2</td>\n",
       "      <td>Week 02</td>\n",
       "      <td>Number</td>\n",
       "      <td>38353.0</td>\n",
       "    </tr>\n",
       "    <tr>\n",
       "      <th>2</th>\n",
       "      <td>THA22C01</td>\n",
       "      <td>Average weekly volume of heavy goods vehicles</td>\n",
       "      <td>2019</td>\n",
       "      <td>2019</td>\n",
       "      <td>10</td>\n",
       "      <td>Selected traffic sites - Dublin</td>\n",
       "      <td>3</td>\n",
       "      <td>Week 03</td>\n",
       "      <td>Number</td>\n",
       "      <td>39973.0</td>\n",
       "    </tr>\n",
       "    <tr>\n",
       "      <th>3</th>\n",
       "      <td>THA22C01</td>\n",
       "      <td>Average weekly volume of heavy goods vehicles</td>\n",
       "      <td>2019</td>\n",
       "      <td>2019</td>\n",
       "      <td>10</td>\n",
       "      <td>Selected traffic sites - Dublin</td>\n",
       "      <td>4</td>\n",
       "      <td>Week 04</td>\n",
       "      <td>Number</td>\n",
       "      <td>40314.0</td>\n",
       "    </tr>\n",
       "    <tr>\n",
       "      <th>4</th>\n",
       "      <td>THA22C01</td>\n",
       "      <td>Average weekly volume of heavy goods vehicles</td>\n",
       "      <td>2019</td>\n",
       "      <td>2019</td>\n",
       "      <td>10</td>\n",
       "      <td>Selected traffic sites - Dublin</td>\n",
       "      <td>5</td>\n",
       "      <td>Week 05</td>\n",
       "      <td>Number</td>\n",
       "      <td>40709.0</td>\n",
       "    </tr>\n",
       "    <tr>\n",
       "      <th>5</th>\n",
       "      <td>THA22C01</td>\n",
       "      <td>Average weekly volume of heavy goods vehicles</td>\n",
       "      <td>2019</td>\n",
       "      <td>2019</td>\n",
       "      <td>10</td>\n",
       "      <td>Selected traffic sites - Dublin</td>\n",
       "      <td>6</td>\n",
       "      <td>Week 06</td>\n",
       "      <td>Number</td>\n",
       "      <td>40682.0</td>\n",
       "    </tr>\n",
       "    <tr>\n",
       "      <th>6</th>\n",
       "      <td>THA22C01</td>\n",
       "      <td>Average weekly volume of heavy goods vehicles</td>\n",
       "      <td>2019</td>\n",
       "      <td>2019</td>\n",
       "      <td>10</td>\n",
       "      <td>Selected traffic sites - Dublin</td>\n",
       "      <td>7</td>\n",
       "      <td>Week 07</td>\n",
       "      <td>Number</td>\n",
       "      <td>41778.0</td>\n",
       "    </tr>\n",
       "    <tr>\n",
       "      <th>7</th>\n",
       "      <td>THA22C01</td>\n",
       "      <td>Average weekly volume of heavy goods vehicles</td>\n",
       "      <td>2019</td>\n",
       "      <td>2019</td>\n",
       "      <td>10</td>\n",
       "      <td>Selected traffic sites - Dublin</td>\n",
       "      <td>8</td>\n",
       "      <td>Week 08</td>\n",
       "      <td>Number</td>\n",
       "      <td>41783.0</td>\n",
       "    </tr>\n",
       "    <tr>\n",
       "      <th>8</th>\n",
       "      <td>THA22C01</td>\n",
       "      <td>Average weekly volume of heavy goods vehicles</td>\n",
       "      <td>2019</td>\n",
       "      <td>2019</td>\n",
       "      <td>10</td>\n",
       "      <td>Selected traffic sites - Dublin</td>\n",
       "      <td>9</td>\n",
       "      <td>Week 09</td>\n",
       "      <td>Number</td>\n",
       "      <td>42588.0</td>\n",
       "    </tr>\n",
       "    <tr>\n",
       "      <th>9</th>\n",
       "      <td>THA22C01</td>\n",
       "      <td>Average weekly volume of heavy goods vehicles</td>\n",
       "      <td>2019</td>\n",
       "      <td>2019</td>\n",
       "      <td>10</td>\n",
       "      <td>Selected traffic sites - Dublin</td>\n",
       "      <td>10</td>\n",
       "      <td>Week 10</td>\n",
       "      <td>Number</td>\n",
       "      <td>42979.0</td>\n",
       "    </tr>\n",
       "  </tbody>\n",
       "</table>\n",
       "</div>"
      ],
      "text/plain": [
       "  STATISTIC                                Statistic Label  TLIST(W1)  Year  \\\n",
       "0  THA22C01  Average weekly volume of heavy goods vehicles       2019  2019   \n",
       "1  THA22C01  Average weekly volume of heavy goods vehicles       2019  2019   \n",
       "2  THA22C01  Average weekly volume of heavy goods vehicles       2019  2019   \n",
       "3  THA22C01  Average weekly volume of heavy goods vehicles       2019  2019   \n",
       "4  THA22C01  Average weekly volume of heavy goods vehicles       2019  2019   \n",
       "5  THA22C01  Average weekly volume of heavy goods vehicles       2019  2019   \n",
       "6  THA22C01  Average weekly volume of heavy goods vehicles       2019  2019   \n",
       "7  THA22C01  Average weekly volume of heavy goods vehicles       2019  2019   \n",
       "8  THA22C01  Average weekly volume of heavy goods vehicles       2019  2019   \n",
       "9  THA22C01  Average weekly volume of heavy goods vehicles       2019  2019   \n",
       "\n",
       "   C03910V04662           Transport Traffic Site  C01198V01436  \\\n",
       "0            10  Selected traffic sites - Dublin             1   \n",
       "1            10  Selected traffic sites - Dublin             2   \n",
       "2            10  Selected traffic sites - Dublin             3   \n",
       "3            10  Selected traffic sites - Dublin             4   \n",
       "4            10  Selected traffic sites - Dublin             5   \n",
       "5            10  Selected traffic sites - Dublin             6   \n",
       "6            10  Selected traffic sites - Dublin             7   \n",
       "7            10  Selected traffic sites - Dublin             8   \n",
       "8            10  Selected traffic sites - Dublin             9   \n",
       "9            10  Selected traffic sites - Dublin            10   \n",
       "\n",
       "  Weeks of the year    UNIT    VALUE  \n",
       "0           Week 01  Number  23838.0  \n",
       "1           Week 02  Number  38353.0  \n",
       "2           Week 03  Number  39973.0  \n",
       "3           Week 04  Number  40314.0  \n",
       "4           Week 05  Number  40709.0  \n",
       "5           Week 06  Number  40682.0  \n",
       "6           Week 07  Number  41778.0  \n",
       "7           Week 08  Number  41783.0  \n",
       "8           Week 09  Number  42588.0  \n",
       "9           Week 10  Number  42979.0  "
      ]
     },
     "execution_count": 4,
     "metadata": {},
     "output_type": "execute_result"
    }
   ],
   "source": [
    "ireland_data.head(10)"
   ]
  },
  {
   "cell_type": "markdown",
   "id": "b6caa7a5",
   "metadata": {},
   "source": [
    "Now Importing the required libraries for EDA (Exploratory Data Analysis). This step is very important especially when we arrive at modelling the data to apply Machine learning. Plotting in EDA consists of Histograms, Box plot, Scatter plots and many more. Through the process of EDA, we can also refine the problem statement or definition of our problem."
   ]
  },
  {
   "cell_type": "code",
   "execution_count": 5,
   "id": "02a443d6",
   "metadata": {},
   "outputs": [
    {
     "data": {
      "text/html": [
       "<div>\n",
       "<style scoped>\n",
       "    .dataframe tbody tr th:only-of-type {\n",
       "        vertical-align: middle;\n",
       "    }\n",
       "\n",
       "    .dataframe tbody tr th {\n",
       "        vertical-align: top;\n",
       "    }\n",
       "\n",
       "    .dataframe thead th {\n",
       "        text-align: right;\n",
       "    }\n",
       "</style>\n",
       "<table border=\"1\" class=\"dataframe\">\n",
       "  <thead>\n",
       "    <tr style=\"text-align: right;\">\n",
       "      <th></th>\n",
       "      <th>STATISTIC</th>\n",
       "      <th>Statistic Label</th>\n",
       "      <th>TLIST(W1)</th>\n",
       "      <th>Year</th>\n",
       "      <th>C03910V04662</th>\n",
       "      <th>Transport Traffic Site</th>\n",
       "      <th>C01198V01436</th>\n",
       "      <th>Weeks of the year</th>\n",
       "      <th>UNIT</th>\n",
       "      <th>VALUE</th>\n",
       "    </tr>\n",
       "  </thead>\n",
       "  <tbody>\n",
       "    <tr>\n",
       "      <th>520</th>\n",
       "      <td>THA22C01</td>\n",
       "      <td>Average weekly volume of heavy goods vehicles</td>\n",
       "      <td>2023</td>\n",
       "      <td>2023</td>\n",
       "      <td>20</td>\n",
       "      <td>Selected traffic sites - Regional</td>\n",
       "      <td>44</td>\n",
       "      <td>Week 44</td>\n",
       "      <td>Number</td>\n",
       "      <td>NaN</td>\n",
       "    </tr>\n",
       "    <tr>\n",
       "      <th>521</th>\n",
       "      <td>THA22C01</td>\n",
       "      <td>Average weekly volume of heavy goods vehicles</td>\n",
       "      <td>2023</td>\n",
       "      <td>2023</td>\n",
       "      <td>20</td>\n",
       "      <td>Selected traffic sites - Regional</td>\n",
       "      <td>45</td>\n",
       "      <td>Week 45</td>\n",
       "      <td>Number</td>\n",
       "      <td>NaN</td>\n",
       "    </tr>\n",
       "    <tr>\n",
       "      <th>522</th>\n",
       "      <td>THA22C01</td>\n",
       "      <td>Average weekly volume of heavy goods vehicles</td>\n",
       "      <td>2023</td>\n",
       "      <td>2023</td>\n",
       "      <td>20</td>\n",
       "      <td>Selected traffic sites - Regional</td>\n",
       "      <td>46</td>\n",
       "      <td>Week 46</td>\n",
       "      <td>Number</td>\n",
       "      <td>NaN</td>\n",
       "    </tr>\n",
       "    <tr>\n",
       "      <th>523</th>\n",
       "      <td>THA22C01</td>\n",
       "      <td>Average weekly volume of heavy goods vehicles</td>\n",
       "      <td>2023</td>\n",
       "      <td>2023</td>\n",
       "      <td>20</td>\n",
       "      <td>Selected traffic sites - Regional</td>\n",
       "      <td>47</td>\n",
       "      <td>Week 47</td>\n",
       "      <td>Number</td>\n",
       "      <td>NaN</td>\n",
       "    </tr>\n",
       "    <tr>\n",
       "      <th>524</th>\n",
       "      <td>THA22C01</td>\n",
       "      <td>Average weekly volume of heavy goods vehicles</td>\n",
       "      <td>2023</td>\n",
       "      <td>2023</td>\n",
       "      <td>20</td>\n",
       "      <td>Selected traffic sites - Regional</td>\n",
       "      <td>48</td>\n",
       "      <td>Week 48</td>\n",
       "      <td>Number</td>\n",
       "      <td>NaN</td>\n",
       "    </tr>\n",
       "    <tr>\n",
       "      <th>525</th>\n",
       "      <td>THA22C01</td>\n",
       "      <td>Average weekly volume of heavy goods vehicles</td>\n",
       "      <td>2023</td>\n",
       "      <td>2023</td>\n",
       "      <td>20</td>\n",
       "      <td>Selected traffic sites - Regional</td>\n",
       "      <td>49</td>\n",
       "      <td>Week 49</td>\n",
       "      <td>Number</td>\n",
       "      <td>NaN</td>\n",
       "    </tr>\n",
       "    <tr>\n",
       "      <th>526</th>\n",
       "      <td>THA22C01</td>\n",
       "      <td>Average weekly volume of heavy goods vehicles</td>\n",
       "      <td>2023</td>\n",
       "      <td>2023</td>\n",
       "      <td>20</td>\n",
       "      <td>Selected traffic sites - Regional</td>\n",
       "      <td>50</td>\n",
       "      <td>Week 50</td>\n",
       "      <td>Number</td>\n",
       "      <td>NaN</td>\n",
       "    </tr>\n",
       "    <tr>\n",
       "      <th>527</th>\n",
       "      <td>THA22C01</td>\n",
       "      <td>Average weekly volume of heavy goods vehicles</td>\n",
       "      <td>2023</td>\n",
       "      <td>2023</td>\n",
       "      <td>20</td>\n",
       "      <td>Selected traffic sites - Regional</td>\n",
       "      <td>51</td>\n",
       "      <td>Week 51</td>\n",
       "      <td>Number</td>\n",
       "      <td>NaN</td>\n",
       "    </tr>\n",
       "    <tr>\n",
       "      <th>528</th>\n",
       "      <td>THA22C01</td>\n",
       "      <td>Average weekly volume of heavy goods vehicles</td>\n",
       "      <td>2023</td>\n",
       "      <td>2023</td>\n",
       "      <td>20</td>\n",
       "      <td>Selected traffic sites - Regional</td>\n",
       "      <td>52</td>\n",
       "      <td>Week 52</td>\n",
       "      <td>Number</td>\n",
       "      <td>NaN</td>\n",
       "    </tr>\n",
       "    <tr>\n",
       "      <th>529</th>\n",
       "      <td>THA22C01</td>\n",
       "      <td>Average weekly volume of heavy goods vehicles</td>\n",
       "      <td>2023</td>\n",
       "      <td>2023</td>\n",
       "      <td>20</td>\n",
       "      <td>Selected traffic sites - Regional</td>\n",
       "      <td>53</td>\n",
       "      <td>Week 53</td>\n",
       "      <td>Number</td>\n",
       "      <td>NaN</td>\n",
       "    </tr>\n",
       "  </tbody>\n",
       "</table>\n",
       "</div>"
      ],
      "text/plain": [
       "    STATISTIC                                Statistic Label  TLIST(W1)  Year  \\\n",
       "520  THA22C01  Average weekly volume of heavy goods vehicles       2023  2023   \n",
       "521  THA22C01  Average weekly volume of heavy goods vehicles       2023  2023   \n",
       "522  THA22C01  Average weekly volume of heavy goods vehicles       2023  2023   \n",
       "523  THA22C01  Average weekly volume of heavy goods vehicles       2023  2023   \n",
       "524  THA22C01  Average weekly volume of heavy goods vehicles       2023  2023   \n",
       "525  THA22C01  Average weekly volume of heavy goods vehicles       2023  2023   \n",
       "526  THA22C01  Average weekly volume of heavy goods vehicles       2023  2023   \n",
       "527  THA22C01  Average weekly volume of heavy goods vehicles       2023  2023   \n",
       "528  THA22C01  Average weekly volume of heavy goods vehicles       2023  2023   \n",
       "529  THA22C01  Average weekly volume of heavy goods vehicles       2023  2023   \n",
       "\n",
       "     C03910V04662             Transport Traffic Site  C01198V01436  \\\n",
       "520            20  Selected traffic sites - Regional            44   \n",
       "521            20  Selected traffic sites - Regional            45   \n",
       "522            20  Selected traffic sites - Regional            46   \n",
       "523            20  Selected traffic sites - Regional            47   \n",
       "524            20  Selected traffic sites - Regional            48   \n",
       "525            20  Selected traffic sites - Regional            49   \n",
       "526            20  Selected traffic sites - Regional            50   \n",
       "527            20  Selected traffic sites - Regional            51   \n",
       "528            20  Selected traffic sites - Regional            52   \n",
       "529            20  Selected traffic sites - Regional            53   \n",
       "\n",
       "    Weeks of the year    UNIT  VALUE  \n",
       "520           Week 44  Number    NaN  \n",
       "521           Week 45  Number    NaN  \n",
       "522           Week 46  Number    NaN  \n",
       "523           Week 47  Number    NaN  \n",
       "524           Week 48  Number    NaN  \n",
       "525           Week 49  Number    NaN  \n",
       "526           Week 50  Number    NaN  \n",
       "527           Week 51  Number    NaN  \n",
       "528           Week 52  Number    NaN  \n",
       "529           Week 53  Number    NaN  "
      ]
     },
     "execution_count": 5,
     "metadata": {},
     "output_type": "execute_result"
    }
   ],
   "source": [
    "ireland_data.tail(10)"
   ]
  },
  {
   "cell_type": "code",
   "execution_count": 6,
   "id": "750313d8",
   "metadata": {},
   "outputs": [
    {
     "data": {
      "text/html": [
       "<div>\n",
       "<style scoped>\n",
       "    .dataframe tbody tr th:only-of-type {\n",
       "        vertical-align: middle;\n",
       "    }\n",
       "\n",
       "    .dataframe tbody tr th {\n",
       "        vertical-align: top;\n",
       "    }\n",
       "\n",
       "    .dataframe thead th {\n",
       "        text-align: right;\n",
       "    }\n",
       "</style>\n",
       "<table border=\"1\" class=\"dataframe\">\n",
       "  <thead>\n",
       "    <tr style=\"text-align: right;\">\n",
       "      <th></th>\n",
       "      <th>halt_id</th>\n",
       "      <th>halt_diva</th>\n",
       "      <th>halt_kurz</th>\n",
       "      <th>halt_lang</th>\n",
       "      <th>halt_ist_aktiv</th>\n",
       "    </tr>\n",
       "  </thead>\n",
       "  <tbody>\n",
       "    <tr>\n",
       "      <th>0</th>\n",
       "      <td>143</td>\n",
       "      <td>2570</td>\n",
       "      <td>BirmSte</td>\n",
       "      <td>Birmensdorf ZH, Sternen/WSL</td>\n",
       "      <td>True</td>\n",
       "    </tr>\n",
       "    <tr>\n",
       "      <th>1</th>\n",
       "      <td>309</td>\n",
       "      <td>3356</td>\n",
       "      <td>WalBiSt</td>\n",
       "      <td>Waldegg, Birmensdorferstrasse</td>\n",
       "      <td>True</td>\n",
       "    </tr>\n",
       "    <tr>\n",
       "      <th>2</th>\n",
       "      <td>373</td>\n",
       "      <td>6232</td>\n",
       "      <td>FRAF07</td>\n",
       "      <td>Zürich Flughafen, Fracht</td>\n",
       "      <td>True</td>\n",
       "    </tr>\n",
       "    <tr>\n",
       "      <th>3</th>\n",
       "      <td>588</td>\n",
       "      <td>3027</td>\n",
       "      <td>FLUG07</td>\n",
       "      <td>Zürich Flughafen, Bahnhof</td>\n",
       "      <td>True</td>\n",
       "    </tr>\n",
       "    <tr>\n",
       "      <th>4</th>\n",
       "      <td>623</td>\n",
       "      <td>2989</td>\n",
       "      <td>TZEN01</td>\n",
       "      <td>Thalwil, Zentrum</td>\n",
       "      <td>True</td>\n",
       "    </tr>\n",
       "    <tr>\n",
       "      <th>5</th>\n",
       "      <td>701</td>\n",
       "      <td>1012</td>\n",
       "      <td>GOLP</td>\n",
       "      <td>Zürich, Goldbrunnenplatz</td>\n",
       "      <td>True</td>\n",
       "    </tr>\n",
       "    <tr>\n",
       "      <th>6</th>\n",
       "      <td>729</td>\n",
       "      <td>687</td>\n",
       "      <td>UitiDrf</td>\n",
       "      <td>Uitikon, Dorf</td>\n",
       "      <td>True</td>\n",
       "    </tr>\n",
       "    <tr>\n",
       "      <th>7</th>\n",
       "      <td>751</td>\n",
       "      <td>2758</td>\n",
       "      <td>UNTR07</td>\n",
       "      <td>Glattbrugg, Unterriet</td>\n",
       "      <td>True</td>\n",
       "    </tr>\n",
       "    <tr>\n",
       "      <th>8</th>\n",
       "      <td>809</td>\n",
       "      <td>501</td>\n",
       "      <td>BirmBhf</td>\n",
       "      <td>Birmensdorf ZH, Bahnhof</td>\n",
       "      <td>True</td>\n",
       "    </tr>\n",
       "    <tr>\n",
       "      <th>9</th>\n",
       "      <td>832</td>\n",
       "      <td>1401</td>\n",
       "      <td>KILB</td>\n",
       "      <td>Kilchberg ZH, Kirche</td>\n",
       "      <td>True</td>\n",
       "    </tr>\n",
       "  </tbody>\n",
       "</table>\n",
       "</div>"
      ],
      "text/plain": [
       "   halt_id  halt_diva halt_kurz                      halt_lang  halt_ist_aktiv\n",
       "0      143       2570   BirmSte    Birmensdorf ZH, Sternen/WSL            True\n",
       "1      309       3356   WalBiSt  Waldegg, Birmensdorferstrasse            True\n",
       "2      373       6232    FRAF07       Zürich Flughafen, Fracht            True\n",
       "3      588       3027    FLUG07      Zürich Flughafen, Bahnhof            True\n",
       "4      623       2989    TZEN01               Thalwil, Zentrum            True\n",
       "5      701       1012      GOLP       Zürich, Goldbrunnenplatz            True\n",
       "6      729        687   UitiDrf                  Uitikon, Dorf            True\n",
       "7      751       2758    UNTR07          Glattbrugg, Unterriet            True\n",
       "8      809        501   BirmBhf        Birmensdorf ZH, Bahnhof            True\n",
       "9      832       1401      KILB           Kilchberg ZH, Kirche            True"
      ]
     },
     "execution_count": 6,
     "metadata": {},
     "output_type": "execute_result"
    }
   ],
   "source": [
    "switzerland_data.head(10)"
   ]
  },
  {
   "cell_type": "code",
   "execution_count": 7,
   "id": "b3132334",
   "metadata": {},
   "outputs": [
    {
     "data": {
      "text/html": [
       "<div>\n",
       "<style scoped>\n",
       "    .dataframe tbody tr th:only-of-type {\n",
       "        vertical-align: middle;\n",
       "    }\n",
       "\n",
       "    .dataframe tbody tr th {\n",
       "        vertical-align: top;\n",
       "    }\n",
       "\n",
       "    .dataframe thead th {\n",
       "        text-align: right;\n",
       "    }\n",
       "</style>\n",
       "<table border=\"1\" class=\"dataframe\">\n",
       "  <thead>\n",
       "    <tr style=\"text-align: right;\">\n",
       "      <th></th>\n",
       "      <th>halt_id</th>\n",
       "      <th>halt_diva</th>\n",
       "      <th>halt_kurz</th>\n",
       "      <th>halt_lang</th>\n",
       "      <th>halt_ist_aktiv</th>\n",
       "    </tr>\n",
       "  </thead>\n",
       "  <tbody>\n",
       "    <tr>\n",
       "      <th>705</th>\n",
       "      <td>3044</td>\n",
       "      <td>6894</td>\n",
       "      <td>DHEI</td>\n",
       "      <td>Dietikon, Heimstrasse</td>\n",
       "      <td>True</td>\n",
       "    </tr>\n",
       "    <tr>\n",
       "      <th>706</th>\n",
       "      <td>3049</td>\n",
       "      <td>6779</td>\n",
       "      <td>BBAU</td>\n",
       "      <td>Binz bei Maur, Bautacher</td>\n",
       "      <td>True</td>\n",
       "    </tr>\n",
       "    <tr>\n",
       "      <th>707</th>\n",
       "      <td>3050</td>\n",
       "      <td>6778</td>\n",
       "      <td>BLAN</td>\n",
       "      <td>Benglen, Langwis</td>\n",
       "      <td>True</td>\n",
       "    </tr>\n",
       "    <tr>\n",
       "      <th>708</th>\n",
       "      <td>3055</td>\n",
       "      <td>6907</td>\n",
       "      <td>WaldLeu</td>\n",
       "      <td>Waldegg, Leuen</td>\n",
       "      <td>True</td>\n",
       "    </tr>\n",
       "    <tr>\n",
       "      <th>709</th>\n",
       "      <td>3086</td>\n",
       "      <td>6856</td>\n",
       "      <td>TSON01</td>\n",
       "      <td>Thalwil, Sonnenberg</td>\n",
       "      <td>True</td>\n",
       "    </tr>\n",
       "    <tr>\n",
       "      <th>710</th>\n",
       "      <td>3102</td>\n",
       "      <td>9984</td>\n",
       "      <td>ABS6</td>\n",
       "      <td>Zürich, Abstellplatz Garage 6</td>\n",
       "      <td>True</td>\n",
       "    </tr>\n",
       "    <tr>\n",
       "      <th>711</th>\n",
       "      <td>3104</td>\n",
       "      <td>9983</td>\n",
       "      <td>WEZW</td>\n",
       "      <td>Zürich, Wenden Zentralwerkstät</td>\n",
       "      <td>True</td>\n",
       "    </tr>\n",
       "    <tr>\n",
       "      <th>712</th>\n",
       "      <td>3135</td>\n",
       "      <td>6961</td>\n",
       "      <td>AGRU</td>\n",
       "      <td>Adliswil, Grundstrasse</td>\n",
       "      <td>True</td>\n",
       "    </tr>\n",
       "    <tr>\n",
       "      <th>713</th>\n",
       "      <td>3158</td>\n",
       "      <td>6975</td>\n",
       "      <td>GLNO</td>\n",
       "      <td>Zürich, Glaubtenstrasse Nord</td>\n",
       "      <td>True</td>\n",
       "    </tr>\n",
       "    <tr>\n",
       "      <th>714</th>\n",
       "      <td>3176</td>\n",
       "      <td>6986</td>\n",
       "      <td>DHOS07</td>\n",
       "      <td>Dübendorf, Hochbord Süd</td>\n",
       "      <td>True</td>\n",
       "    </tr>\n",
       "  </tbody>\n",
       "</table>\n",
       "</div>"
      ],
      "text/plain": [
       "     halt_id  halt_diva halt_kurz                       halt_lang  \\\n",
       "705     3044       6894      DHEI           Dietikon, Heimstrasse   \n",
       "706     3049       6779      BBAU        Binz bei Maur, Bautacher   \n",
       "707     3050       6778      BLAN                Benglen, Langwis   \n",
       "708     3055       6907   WaldLeu                  Waldegg, Leuen   \n",
       "709     3086       6856    TSON01             Thalwil, Sonnenberg   \n",
       "710     3102       9984      ABS6   Zürich, Abstellplatz Garage 6   \n",
       "711     3104       9983      WEZW  Zürich, Wenden Zentralwerkstät   \n",
       "712     3135       6961      AGRU          Adliswil, Grundstrasse   \n",
       "713     3158       6975      GLNO    Zürich, Glaubtenstrasse Nord   \n",
       "714     3176       6986    DHOS07         Dübendorf, Hochbord Süd   \n",
       "\n",
       "     halt_ist_aktiv  \n",
       "705            True  \n",
       "706            True  \n",
       "707            True  \n",
       "708            True  \n",
       "709            True  \n",
       "710            True  \n",
       "711            True  \n",
       "712            True  \n",
       "713            True  \n",
       "714            True  "
      ]
     },
     "execution_count": 7,
     "metadata": {},
     "output_type": "execute_result"
    }
   ],
   "source": [
    "switzerland_data.tail(10)"
   ]
  },
  {
   "cell_type": "code",
   "execution_count": 8,
   "id": "76eeafbf",
   "metadata": {},
   "outputs": [
    {
     "data": {
      "text/plain": [
       "(530, 10)"
      ]
     },
     "execution_count": 8,
     "metadata": {},
     "output_type": "execute_result"
    }
   ],
   "source": [
    "ireland_data.shape"
   ]
  },
  {
   "cell_type": "code",
   "execution_count": 9,
   "id": "1f613748",
   "metadata": {},
   "outputs": [
    {
     "data": {
      "text/plain": [
       "(715, 5)"
      ]
     },
     "execution_count": 9,
     "metadata": {},
     "output_type": "execute_result"
    }
   ],
   "source": [
    "switzerland_data.shape"
   ]
  },
  {
   "cell_type": "code",
   "execution_count": 10,
   "id": "7c4720a4",
   "metadata": {},
   "outputs": [
    {
     "data": {
      "text/plain": [
       "STATISTIC                  object\n",
       "Statistic Label            object\n",
       "TLIST(W1)                   int64\n",
       "Year                        int64\n",
       "C03910V04662                int64\n",
       "Transport Traffic Site     object\n",
       "C01198V01436                int64\n",
       "Weeks of the year          object\n",
       "UNIT                       object\n",
       "VALUE                     float64\n",
       "dtype: object"
      ]
     },
     "execution_count": 10,
     "metadata": {},
     "output_type": "execute_result"
    }
   ],
   "source": [
    "ireland_data.dtypes"
   ]
  },
  {
   "cell_type": "code",
   "execution_count": 11,
   "id": "e8138fd4",
   "metadata": {},
   "outputs": [
    {
     "data": {
      "text/plain": [
       "halt_id            int64\n",
       "halt_diva          int64\n",
       "halt_kurz         object\n",
       "halt_lang         object\n",
       "halt_ist_aktiv      bool\n",
       "dtype: object"
      ]
     },
     "execution_count": 11,
     "metadata": {},
     "output_type": "execute_result"
    }
   ],
   "source": [
    "switzerland_data.dtypes"
   ]
  },
  {
   "cell_type": "code",
   "execution_count": 12,
   "id": "5410ce2d",
   "metadata": {},
   "outputs": [
    {
     "data": {
      "text/plain": [
       "<bound method DataFrame.count of     STATISTIC                                Statistic Label  TLIST(W1)  Year  \\\n",
       "0    THA22C01  Average weekly volume of heavy goods vehicles       2019  2019   \n",
       "1    THA22C01  Average weekly volume of heavy goods vehicles       2019  2019   \n",
       "2    THA22C01  Average weekly volume of heavy goods vehicles       2019  2019   \n",
       "3    THA22C01  Average weekly volume of heavy goods vehicles       2019  2019   \n",
       "4    THA22C01  Average weekly volume of heavy goods vehicles       2019  2019   \n",
       "..        ...                                            ...        ...   ...   \n",
       "525  THA22C01  Average weekly volume of heavy goods vehicles       2023  2023   \n",
       "526  THA22C01  Average weekly volume of heavy goods vehicles       2023  2023   \n",
       "527  THA22C01  Average weekly volume of heavy goods vehicles       2023  2023   \n",
       "528  THA22C01  Average weekly volume of heavy goods vehicles       2023  2023   \n",
       "529  THA22C01  Average weekly volume of heavy goods vehicles       2023  2023   \n",
       "\n",
       "     C03910V04662             Transport Traffic Site  C01198V01436  \\\n",
       "0              10    Selected traffic sites - Dublin             1   \n",
       "1              10    Selected traffic sites - Dublin             2   \n",
       "2              10    Selected traffic sites - Dublin             3   \n",
       "3              10    Selected traffic sites - Dublin             4   \n",
       "4              10    Selected traffic sites - Dublin             5   \n",
       "..            ...                                ...           ...   \n",
       "525            20  Selected traffic sites - Regional            49   \n",
       "526            20  Selected traffic sites - Regional            50   \n",
       "527            20  Selected traffic sites - Regional            51   \n",
       "528            20  Selected traffic sites - Regional            52   \n",
       "529            20  Selected traffic sites - Regional            53   \n",
       "\n",
       "    Weeks of the year    UNIT    VALUE  \n",
       "0             Week 01  Number  23838.0  \n",
       "1             Week 02  Number  38353.0  \n",
       "2             Week 03  Number  39973.0  \n",
       "3             Week 04  Number  40314.0  \n",
       "4             Week 05  Number  40709.0  \n",
       "..                ...     ...      ...  \n",
       "525           Week 49  Number      NaN  \n",
       "526           Week 50  Number      NaN  \n",
       "527           Week 51  Number      NaN  \n",
       "528           Week 52  Number      NaN  \n",
       "529           Week 53  Number      NaN  \n",
       "\n",
       "[530 rows x 10 columns]>"
      ]
     },
     "execution_count": 12,
     "metadata": {},
     "output_type": "execute_result"
    }
   ],
   "source": [
    "ireland_data.count"
   ]
  },
  {
   "cell_type": "code",
   "execution_count": 13,
   "id": "6bc4ba55",
   "metadata": {},
   "outputs": [
    {
     "data": {
      "text/plain": [
       "<bound method DataFrame.count of      halt_id  halt_diva halt_kurz                       halt_lang  \\\n",
       "0        143       2570   BirmSte     Birmensdorf ZH, Sternen/WSL   \n",
       "1        309       3356   WalBiSt   Waldegg, Birmensdorferstrasse   \n",
       "2        373       6232    FRAF07        Zürich Flughafen, Fracht   \n",
       "3        588       3027    FLUG07       Zürich Flughafen, Bahnhof   \n",
       "4        623       2989    TZEN01                Thalwil, Zentrum   \n",
       "..       ...        ...       ...                             ...   \n",
       "710     3102       9984      ABS6   Zürich, Abstellplatz Garage 6   \n",
       "711     3104       9983      WEZW  Zürich, Wenden Zentralwerkstät   \n",
       "712     3135       6961      AGRU          Adliswil, Grundstrasse   \n",
       "713     3158       6975      GLNO    Zürich, Glaubtenstrasse Nord   \n",
       "714     3176       6986    DHOS07         Dübendorf, Hochbord Süd   \n",
       "\n",
       "     halt_ist_aktiv  \n",
       "0              True  \n",
       "1              True  \n",
       "2              True  \n",
       "3              True  \n",
       "4              True  \n",
       "..              ...  \n",
       "710            True  \n",
       "711            True  \n",
       "712            True  \n",
       "713            True  \n",
       "714            True  \n",
       "\n",
       "[715 rows x 5 columns]>"
      ]
     },
     "execution_count": 13,
     "metadata": {},
     "output_type": "execute_result"
    }
   ],
   "source": [
    "switzerland_data.count"
   ]
  },
  {
   "cell_type": "code",
   "execution_count": 14,
   "id": "613e95df",
   "metadata": {},
   "outputs": [
    {
     "data": {
      "text/plain": [
       "STATISTIC                  0\n",
       "Statistic Label            0\n",
       "TLIST(W1)                  0\n",
       "Year                       0\n",
       "C03910V04662               0\n",
       "Transport Traffic Site     0\n",
       "C01198V01436               0\n",
       "Weeks of the year          0\n",
       "UNIT                       0\n",
       "VALUE                     34\n",
       "dtype: int64"
      ]
     },
     "execution_count": 14,
     "metadata": {},
     "output_type": "execute_result"
    }
   ],
   "source": [
    "ireland_data.isna().sum()"
   ]
  },
  {
   "cell_type": "markdown",
   "id": "53640b17",
   "metadata": {},
   "source": [
    "After Cleanig Ireland Transport Data the data there was no Null Value. As you see below"
   ]
  },
  {
   "cell_type": "code",
   "execution_count": 15,
   "id": "5deb88ed",
   "metadata": {},
   "outputs": [
    {
     "data": {
      "text/plain": [
       "STATISTIC                 0\n",
       "Statistic Label           0\n",
       "TLIST(W1)                 0\n",
       "Year                      0\n",
       "C03910V04662              0\n",
       "Transport Traffic Site    0\n",
       "C01198V01436              0\n",
       "Weeks of the year         0\n",
       "UNIT                      0\n",
       "VALUE                     0\n",
       "dtype: int64"
      ]
     },
     "execution_count": 15,
     "metadata": {},
     "output_type": "execute_result"
    }
   ],
   "source": [
    "ireland_data_cleaned.isna().sum()"
   ]
  },
  {
   "cell_type": "markdown",
   "id": "7f9dbf65",
   "metadata": {},
   "source": [
    "Since our Ireland Trandsport Data has been Cleaned now, we may proceed to the analysis stage."
   ]
  },
  {
   "cell_type": "code",
   "execution_count": 16,
   "id": "dd8cd9bd",
   "metadata": {},
   "outputs": [
    {
     "data": {
      "text/plain": [
       "halt_id           0\n",
       "halt_diva         0\n",
       "halt_kurz         0\n",
       "halt_lang         0\n",
       "halt_ist_aktiv    0\n",
       "dtype: int64"
      ]
     },
     "execution_count": 16,
     "metadata": {},
     "output_type": "execute_result"
    }
   ],
   "source": [
    "switzerland_data.isna().sum()"
   ]
  },
  {
   "cell_type": "code",
   "execution_count": 17,
   "id": "872afde1",
   "metadata": {},
   "outputs": [
    {
     "data": {
      "text/plain": [
       "halt_id           0\n",
       "halt_diva         0\n",
       "halt_kurz         0\n",
       "halt_lang         0\n",
       "halt_ist_aktiv    0\n",
       "dtype: int64"
      ]
     },
     "execution_count": 17,
     "metadata": {},
     "output_type": "execute_result"
    }
   ],
   "source": [
    "switzerland_data_cleaned.isna().sum()"
   ]
  },
  {
   "cell_type": "markdown",
   "id": "865c49be",
   "metadata": {},
   "source": [
    "After Cleanig Switzerland Transport Data the data there was no Null Value.Since our data has been Cleaned now, we may proceed to the analysis stage. "
   ]
  },
  {
   "cell_type": "markdown",
   "id": "aa6a08a6",
   "metadata": {},
   "source": [
    "#### Now, we further doing Data Visualization on our datasets in the following code."
   ]
  },
  {
   "cell_type": "code",
   "execution_count": 18,
   "id": "cdd506d3",
   "metadata": {},
   "outputs": [
    {
     "data": {
      "image/png": "[encoded data removed]",
      "text/plain": [
       "<Figure size 1000x600 with 1 Axes>"
      ]
     },
     "metadata": {},
     "output_type": "display_data"
    }
   ],
   "source": [
    "switzerland_cleaned_path = r'C:/Users/Ycomputer/Downloads/SAA-1009/Datasets/cleaned_switzerland.csv'\n",
    "\n",
    "switzerland_data = pd.read_csv(switzerland_cleaned_path)\n",
    "\n",
    "# Visualize Switzerland dataset\n",
    "plt.figure(figsize=(10, 6))\n",
    "sns.countplot(x='halt_ist_aktiv', data=switzerland_data)\n",
    "plt.title('Active vs Inactive Halts in Switzerland')\n",
    "plt.xlabel('Halt Activity')\n",
    "plt.ylabel('Count')\n",
    "plt.show()"
   ]
  },
  {
   "cell_type": "code",
   "execution_count": 19,
   "id": "59820360",
   "metadata": {},
   "outputs": [
    {
     "data": {
      "image/png": "[encoded data removed]",
      "text/plain": [
       "<Figure size 1200x600 with 1 Axes>"
      ]
     },
     "metadata": {},
     "output_type": "display_data"
    }
   ],
   "source": [
    "switzerland_cleaned_path = r'C:/Users/Ycomputer/Downloads/SAA-1009/Datasets/cleaned_switzerland.csv'\n",
    "\n",
    "switzerland_data = pd.read_csv(switzerland_cleaned_path)\n",
    "\n",
    "ireland_data = pd.DataFrame({\n",
    "    'Weeks of the year': ['Week 01', 'Week 02', 'Week 03', 'Week 04', 'Week 05', 'Week 06', 'Week 07', 'Week 08', 'Week 09', 'Week 10', 'Week 11', 'Week 12', 'Week 13', 'Week 14', 'Week 15', 'Week 16', 'Week 17', 'Week 18', 'Week 19', 'Week 20'],\n",
    "    'Average Weekly Volume': [23838, 38353, 39973, 40314, 40709, 40682, 41778, 41783, 42588, 42979, 41785, 38313, 43440, 43310, 42998, 40096, 35429, 42366, 37060, 42644]\n",
    "})\n",
    "\n",
    "\n",
    "plt.figure(figsize=(12, 6))\n",
    "sns.lineplot(x='Weeks of the year', y='Average Weekly Volume', data=ireland_data, marker='o')\n",
    "plt.title('Average Weekly Volume of Heavy Goods Vehicles in Ireland')\n",
    "plt.xlabel('Weeks of the Year')\n",
    "plt.ylabel('Number of Vehicles')\n",
    "plt.show()"
   ]
  }
 ],
 "metadata": {
  "kernelspec": {
   "display_name": "Python 3 (ipykernel)",
   "language": "python",
   "name": "python3"
  },
  "language_info": {
   "codemirror_mode": {
    "name": "ipython",
    "version": 3
   },
   "file_extension": ".py",
   "mimetype": "text/x-python",
   "name": "python",
   "nbconvert_exporter": "python",
   "pygments_lexer": "ipython3",
   "version": "3.11.4"
  }
 },
 "nbformat": 4,
 "nbformat_minor": 5
}
